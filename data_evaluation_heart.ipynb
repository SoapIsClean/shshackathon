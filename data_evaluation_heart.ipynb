{
 "cells": [
  {
   "cell_type": "code",
   "execution_count": 5,
   "metadata": {},
   "outputs": [],
   "source": [
    "import numpy as np # linear algebra\n",
    "import pandas as pd # data processing\n",
    "import h5py\n",
    "import math\n",
    "from lightgbm import LGBMRegressor\n",
    "from sklearn.model_selection import train_test_split\n",
    "from sklearn.metrics import mean_squared_error"
   ]
  },
  {
   "cell_type": "code",
   "execution_count": 6,
   "metadata": {},
   "outputs": [],
   "source": [
    "with h5py.File(\"D:/shs_6.6_hackathon/training_data.h5py\", \"r\") as f:\n",
    "    x =  f['values'][:]\n",
    "    y = f['labels'][:]\n",
    "train_x = x[:3000]\n",
    "val_x = x[3000:]\n",
    "train_y = y[:3000]\n",
    "val_y = y[3000:]"
   ]
  },
  {
   "cell_type": "code",
   "execution_count": 9,
   "metadata": {},
   "outputs": [
    {
     "name": "stdout",
     "output_type": "stream",
     "text": [
      "LGBMRegressor RMSE : 26.069494653276877\n"
     ]
    }
   ],
   "source": [
    "def evaluate(x_train, x_eval, y_train, y_eval, model):\n",
    "    model.fit(x_train, y_train)\n",
    "    y_predict = model.predict(x_eval)\n",
    "    return math.sqrt(mean_squared_error(y_predict, y_eval))\n",
    "root_path = \"C:/users/ryan/Downloads/\"\n",
    "# Read data\n",
    "x_load = pd.read_csv(root_path + 'Training_values.csv')\n",
    "y_load = pd.read_csv(root_path + 'Training_labels.csv')\n",
    "df_X_test  = pd.read_csv(root_path + 'Test_values.csv')\n",
    "\n",
    "df_X_train = x_load[:3000]\n",
    "df_Y_train = y_load[:3000]\n",
    "\n",
    "x_test_final = x_load[3000:]\n",
    "y_test_final = y_load[3000:]\n",
    "\n",
    "df_X_train.describe()\n",
    "\n",
    "# Split training data , Evaluate model , Tune hyper-parameters\n",
    "X_train, X_test, y_train, y_test = train_test_split(train_x, train_y, test_size=0.2, random_state=1)\n",
    "\n",
    "from scipy.stats import randint as sp_randint\n",
    "from scipy.stats import uniform as sp_uniform\n",
    "from sklearn.model_selection import RandomizedSearchCV, GridSearchCV\n",
    "\n",
    "model = LGBMRegressor(n_estimators=2000, learning_rate=0.05, num_leaves=30, n_jobs=-5)\n",
    "rmse = evaluate(X_train, X_test, y_train, y_test, model)\n",
    "print ('LGBMRegressor RMSE :', rmse)"
   ]
  },
  {
   "cell_type": "code",
   "execution_count": 8,
   "metadata": {},
   "outputs": [],
   "source": [
    "def predict_result(data):\n",
    "    return model.predict_result(np.expand_dims(data, axis = 1))"
   ]
  }
 ],
 "metadata": {
  "kernelspec": {
   "display_name": "Python 3",
   "language": "python",
   "name": "python3"
  },
  "language_info": {
   "codemirror_mode": {
    "name": "ipython",
    "version": 3
   },
   "file_extension": ".py",
   "mimetype": "text/x-python",
   "name": "python",
   "nbconvert_exporter": "python",
   "pygments_lexer": "ipython3",
   "version": "3.7.3"
  }
 },
 "nbformat": 4,
 "nbformat_minor": 2
}
